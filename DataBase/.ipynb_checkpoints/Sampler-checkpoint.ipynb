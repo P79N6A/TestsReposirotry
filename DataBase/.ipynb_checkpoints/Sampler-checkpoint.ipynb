{
 "cells": [
  {
   "cell_type": "markdown",
   "metadata": {},
   "source": [
    "Get Random Sampled Test From the Corpus"
   ]
  },
  {
   "cell_type": "code",
   "execution_count": 1,
   "metadata": {},
   "outputs": [
    {
     "data": {
      "text/html": [
       "\n",
       "<style>\n",
       "    div#notebook-container    { width: 95%; heihgt: 30% ;}\n",
       "    div#menubar-container     { width: 65%; heihgt: 30%  ;}\n",
       "    div#maintoolbar-container { width: 99%; heihgt: 30%  ;}\n",
       "</style>\n"
      ],
      "text/plain": [
       "<IPython.core.display.HTML object>"
      ]
     },
     "metadata": {},
     "output_type": "display_data"
    }
   ],
   "source": [
    "#Imports\n",
    "import csv\n",
    "import random\n",
    "import ipywidgets as widgets\n",
    "import os\n",
    "from IPython.display import display, HTML\n",
    "\n",
    "display(HTML(data=\"\"\"\n",
    "<style>\n",
    "    div#notebook-container    { width: 95%; heihgt: 30% ;}\n",
    "    div#menubar-container     { width: 65%; heihgt: 30%  ;}\n",
    "    div#maintoolbar-container { width: 99%; heihgt: 30%  ;}\n",
    "</style>\n",
    "\"\"\"))"
   ]
  },
  {
   "cell_type": "markdown",
   "metadata": {},
   "source": [
    "Open the CSVs"
   ]
  },
  {
   "cell_type": "code",
   "execution_count": 2,
   "metadata": {
    "scrolled": false
   },
   "outputs": [
    {
     "data": {
      "application/vnd.jupyter.widget-view+json": {
       "model_id": "895ce8be4984445cb099b8ac48dd2148",
       "version_major": 2,
       "version_minor": 0
      },
      "text/plain": [
       "GridBox(children=(Button(button_style='success', description='Sample a test', icon='refresh', layout=Layout(gr…"
      ]
     },
     "metadata": {},
     "output_type": "display_data"
    },
    {
     "ename": "TypeError",
     "evalue": "can only concatenate str (not \"int\") to str",
     "output_type": "error",
     "traceback": [
      "\u001b[0;31m---------------------------------------------------------------------------\u001b[0m",
      "\u001b[0;31mTypeError\u001b[0m                                 Traceback (most recent call last)",
      "\u001b[0;32m<ipython-input-2-361d5b49ccfe>\u001b[0m in \u001b[0;36mon_button_clicked\u001b[0;34m(b)\u001b[0m\n\u001b[1;32m     70\u001b[0m     \u001b[0mprojectLabel\u001b[0m\u001b[0;34m.\u001b[0m\u001b[0mvalue\u001b[0m \u001b[0;34m=\u001b[0m \u001b[0;34m\"Sampled from project: \"\u001b[0m \u001b[0;34m+\u001b[0m \u001b[0mproject\u001b[0m\u001b[0;34m\u001b[0m\u001b[0m\n\u001b[1;32m     71\u001b[0m     \u001b[0mcounter\u001b[0m \u001b[0;34m+=\u001b[0m \u001b[0;36m1\u001b[0m\u001b[0;34m\u001b[0m\u001b[0m\n\u001b[0;32m---> 72\u001b[0;31m     \u001b[0mtestClassLabel\u001b[0m\u001b[0;34m.\u001b[0m\u001b[0mvalue\u001b[0m \u001b[0;34m=\u001b[0m \u001b[0;34m\"Sample #\"\u001b[0m \u001b[0;34m+\u001b[0m \u001b[0mcounter\u001b[0m \u001b[0;31m#\"Sampled from class: \" +  testClass\u001b[0m\u001b[0;34m\u001b[0m\u001b[0m\n\u001b[0m\u001b[1;32m     73\u001b[0m     \u001b[0mtextMethod\u001b[0m\u001b[0;34m.\u001b[0m\u001b[0mvalue\u001b[0m \u001b[0;34m=\u001b[0m \u001b[0mstr\u001b[0m\u001b[0;34m(\u001b[0m\u001b[0mtestFile\u001b[0m\u001b[0;34m.\u001b[0m\u001b[0mread\u001b[0m\u001b[0;34m(\u001b[0m\u001b[0;34m)\u001b[0m\u001b[0;34m)\u001b[0m\u001b[0;34m\u001b[0m\u001b[0m\n\u001b[1;32m     74\u001b[0m     \u001b[0mtextClass\u001b[0m\u001b[0;34m.\u001b[0m\u001b[0mvalue\u001b[0m \u001b[0;34m=\u001b[0m \u001b[0mstr\u001b[0m\u001b[0;34m(\u001b[0m\u001b[0mtestClassFile\u001b[0m\u001b[0;34m.\u001b[0m\u001b[0mread\u001b[0m\u001b[0;34m(\u001b[0m\u001b[0;34m)\u001b[0m\u001b[0;34m)\u001b[0m\u001b[0;34m\u001b[0m\u001b[0m\n",
      "\u001b[0;31mTypeError\u001b[0m: can only concatenate str (not \"int\") to str"
     ]
    },
    {
     "ename": "TypeError",
     "evalue": "can only concatenate str (not \"int\") to str",
     "output_type": "error",
     "traceback": [
      "\u001b[0;31m---------------------------------------------------------------------------\u001b[0m",
      "\u001b[0;31mTypeError\u001b[0m                                 Traceback (most recent call last)",
      "\u001b[0;32m<ipython-input-2-361d5b49ccfe>\u001b[0m in \u001b[0;36mon_button_clicked\u001b[0;34m(b)\u001b[0m\n\u001b[1;32m     70\u001b[0m     \u001b[0mprojectLabel\u001b[0m\u001b[0;34m.\u001b[0m\u001b[0mvalue\u001b[0m \u001b[0;34m=\u001b[0m \u001b[0;34m\"Sampled from project: \"\u001b[0m \u001b[0;34m+\u001b[0m \u001b[0mproject\u001b[0m\u001b[0;34m\u001b[0m\u001b[0m\n\u001b[1;32m     71\u001b[0m     \u001b[0mcounter\u001b[0m \u001b[0;34m+=\u001b[0m \u001b[0;36m1\u001b[0m\u001b[0;34m\u001b[0m\u001b[0m\n\u001b[0;32m---> 72\u001b[0;31m     \u001b[0mtestClassLabel\u001b[0m\u001b[0;34m.\u001b[0m\u001b[0mvalue\u001b[0m \u001b[0;34m=\u001b[0m \u001b[0;34m\"Sample #\"\u001b[0m \u001b[0;34m+\u001b[0m \u001b[0mcounter\u001b[0m \u001b[0;31m#\"Sampled from class: \" +  testClass\u001b[0m\u001b[0;34m\u001b[0m\u001b[0m\n\u001b[0m\u001b[1;32m     73\u001b[0m     \u001b[0mtextMethod\u001b[0m\u001b[0;34m.\u001b[0m\u001b[0mvalue\u001b[0m \u001b[0;34m=\u001b[0m \u001b[0mstr\u001b[0m\u001b[0;34m(\u001b[0m\u001b[0mtestFile\u001b[0m\u001b[0;34m.\u001b[0m\u001b[0mread\u001b[0m\u001b[0;34m(\u001b[0m\u001b[0;34m)\u001b[0m\u001b[0;34m)\u001b[0m\u001b[0;34m\u001b[0m\u001b[0m\n\u001b[1;32m     74\u001b[0m     \u001b[0mtextClass\u001b[0m\u001b[0;34m.\u001b[0m\u001b[0mvalue\u001b[0m \u001b[0;34m=\u001b[0m \u001b[0mstr\u001b[0m\u001b[0;34m(\u001b[0m\u001b[0mtestClassFile\u001b[0m\u001b[0;34m.\u001b[0m\u001b[0mread\u001b[0m\u001b[0;34m(\u001b[0m\u001b[0;34m)\u001b[0m\u001b[0;34m)\u001b[0m\u001b[0;34m\u001b[0m\u001b[0m\n",
      "\u001b[0;31mTypeError\u001b[0m: can only concatenate str (not \"int\") to str"
     ]
    },
    {
     "ename": "TypeError",
     "evalue": "can only concatenate str (not \"int\") to str",
     "output_type": "error",
     "traceback": [
      "\u001b[0;31m---------------------------------------------------------------------------\u001b[0m",
      "\u001b[0;31mTypeError\u001b[0m                                 Traceback (most recent call last)",
      "\u001b[0;32m<ipython-input-2-361d5b49ccfe>\u001b[0m in \u001b[0;36mon_button_clicked\u001b[0;34m(b)\u001b[0m\n\u001b[1;32m     70\u001b[0m     \u001b[0mprojectLabel\u001b[0m\u001b[0;34m.\u001b[0m\u001b[0mvalue\u001b[0m \u001b[0;34m=\u001b[0m \u001b[0;34m\"Sampled from project: \"\u001b[0m \u001b[0;34m+\u001b[0m \u001b[0mproject\u001b[0m\u001b[0;34m\u001b[0m\u001b[0m\n\u001b[1;32m     71\u001b[0m     \u001b[0mcounter\u001b[0m \u001b[0;34m+=\u001b[0m \u001b[0;36m1\u001b[0m\u001b[0;34m\u001b[0m\u001b[0m\n\u001b[0;32m---> 72\u001b[0;31m     \u001b[0mtestClassLabel\u001b[0m\u001b[0;34m.\u001b[0m\u001b[0mvalue\u001b[0m \u001b[0;34m=\u001b[0m \u001b[0;34m\"Sample #\"\u001b[0m \u001b[0;34m+\u001b[0m \u001b[0mcounter\u001b[0m \u001b[0;31m#\"Sampled from class: \" +  testClass\u001b[0m\u001b[0;34m\u001b[0m\u001b[0m\n\u001b[0m\u001b[1;32m     73\u001b[0m     \u001b[0mtextMethod\u001b[0m\u001b[0;34m.\u001b[0m\u001b[0mvalue\u001b[0m \u001b[0;34m=\u001b[0m \u001b[0mstr\u001b[0m\u001b[0;34m(\u001b[0m\u001b[0mtestFile\u001b[0m\u001b[0;34m.\u001b[0m\u001b[0mread\u001b[0m\u001b[0;34m(\u001b[0m\u001b[0;34m)\u001b[0m\u001b[0;34m)\u001b[0m\u001b[0;34m\u001b[0m\u001b[0m\n\u001b[1;32m     74\u001b[0m     \u001b[0mtextClass\u001b[0m\u001b[0;34m.\u001b[0m\u001b[0mvalue\u001b[0m \u001b[0;34m=\u001b[0m \u001b[0mstr\u001b[0m\u001b[0;34m(\u001b[0m\u001b[0mtestClassFile\u001b[0m\u001b[0;34m.\u001b[0m\u001b[0mread\u001b[0m\u001b[0;34m(\u001b[0m\u001b[0;34m)\u001b[0m\u001b[0;34m)\u001b[0m\u001b[0;34m\u001b[0m\u001b[0m\n",
      "\u001b[0;31mTypeError\u001b[0m: can only concatenate str (not \"int\") to str"
     ]
    }
   ],
   "source": [
    "projects =  open('allProjects.csv', newline='\\r')\n",
    "#numProjects = sum(1 for line in projects)\n",
    "classes =  open('allclasses.csv', newline='\\r')\n",
    "#numClasses = sum(1 for line in classes)\n",
    "methods =  open('allmethods.csv', newline='\\r')\n",
    "#numMethods = sum(1 for line in methods)\n",
    "#print(numProjects)\n",
    "#print(numClasses)\n",
    "#print(numMethods)\n",
    "\n",
    "#chosen_row = random.choice(list(methods))\n",
    "#print(chosen_row)\n",
    "\n",
    "button = widgets.Button(\n",
    "    description='Sample a test',\n",
    "    disabled=False,\n",
    "    button_style='success', # 'success', 'info', 'warning', 'danger' or ''\n",
    "    tooltip='Click me',\n",
    "    icon='refresh',\n",
    "    layout= widgets.Layout(width='auto', grid_area='a')\n",
    "    #layout = widgets.Layout(width='auto', height='auto')\n",
    ")\n",
    "\n",
    "projectLabel = widgets.Label(value=\"Sampled from project:\",\n",
    "                            layout= widgets.Layout(width='auto', grid_area='b'))\n",
    "testClassLabel = widgets.Label(value=\"Sampled from class:\",\n",
    "                              layout= widgets.Layout(width='auto', grid_area='c'))\n",
    "\n",
    "\n",
    "\n",
    "\n",
    "textMethod = widgets.Textarea(\n",
    "    #disabled=True,\n",
    "    layout= widgets.Layout(width='auto', grid_area='d', height = '1000px')\n",
    "    #layout = widgets.Layout(width='auto', height='auto')\n",
    ")\n",
    "\n",
    "textClass = widgets.Textarea(\n",
    "    #disabled=True,\n",
    "    layout= widgets.Layout(width='auto', grid_area='e', height = '1000px')\n",
    "    #layout = widgets.Layout(width='auto', height='auto')\n",
    ")\n",
    "\n",
    "g = widgets.GridBox(children=[button, projectLabel, testClassLabel, textMethod, textClass],\n",
    "        layout= widgets.Layout(\n",
    "            width='100%',\n",
    "            grid_template_rows='auto auto auto auto',\n",
    "            grid_template_columns='25% 25% 25% 25%',\n",
    "            grid_template_areas='''\n",
    "            \". a a .\"\n",
    "            \". b b .\"\n",
    "            \". c c .\"\n",
    "            \"d d e e\"\n",
    "            ''')\n",
    "       )\n",
    "\n",
    "display(g)\n",
    "\n",
    "#display(button,projectLabel,testClassLabel,textMethod,textClass)\n",
    "\n",
    "counter = 0\n",
    "\n",
    "def on_button_clicked(b):\n",
    "    global counter\n",
    "    project = random.choice(os.listdir(\"../DataBase/MethodsDataBase/\"))\n",
    "    testClass = random.choice(os.listdir(\"../DataBase/MethodsDataBase/\"+project+\"/\"))\n",
    "    test = random.choice(os.listdir(\"../DataBase/MethodsDataBase/\"+project+\"/\" + testClass + \"/\"))\n",
    "    testFile = testClassFile = open(\"../DataBase/MethodsDataBase/\" + project + \"/\" + testClass + \"/\" + test, \"r\")\n",
    "    testClassFile = open(\"../DataBase/TestClassesDataBase/\" + project + \"/\" + testClass +\".txt\", \"r\")\n",
    "    projectLabel.value = \"Sampled from project: \" + project\n",
    "    counter += 1\n",
    "    testClassLabel.value = \"Sample #\" + str(counter) #\"Sampled from class: \" +  testClass\n",
    "    textMethod.value = str(testFile.read())\n",
    "    textClass.value = str(testClassFile.read())\n",
    "    \n",
    "button.on_click(on_button_clicked)\n",
    "\n"
   ]
  }
 ],
 "metadata": {
  "kernelspec": {
   "display_name": "Python 3",
   "language": "python",
   "name": "python3"
  },
  "language_info": {
   "codemirror_mode": {
    "name": "ipython",
    "version": 3
   },
   "file_extension": ".py",
   "mimetype": "text/x-python",
   "name": "python",
   "nbconvert_exporter": "python",
   "pygments_lexer": "ipython3",
   "version": "3.7.0"
  }
 },
 "nbformat": 4,
 "nbformat_minor": 2
}
