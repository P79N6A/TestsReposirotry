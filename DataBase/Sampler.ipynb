{
 "cells": [
  {
   "cell_type": "markdown",
   "metadata": {},
   "source": [
    "Get Random Sampled Test From the Corpus"
   ]
  },
  {
   "cell_type": "code",
   "execution_count": 1,
   "metadata": {},
   "outputs": [
    {
     "data": {
      "text/html": [
       "\n",
       "<style>\n",
       "    div#notebook-container    { width: 95%; heihgt: 30% ;}\n",
       "    div#menubar-container     { width: 65%; heihgt: 30%  ;}\n",
       "    div#maintoolbar-container { width: 99%; heihgt: 30%  ;}\n",
       "</style>\n"
      ],
      "text/plain": [
       "<IPython.core.display.HTML object>"
      ]
     },
     "metadata": {},
     "output_type": "display_data"
    }
   ],
   "source": [
    "#Imports\n",
    "import csv\n",
    "import random\n",
    "import ipywidgets as widgets\n",
    "import os\n",
    "from IPython.display import display, HTML\n",
    "\n",
    "display(HTML(data=\"\"\"\n",
    "<style>\n",
    "    div#notebook-container    { width: 95%; heihgt: 30% ;}\n",
    "    div#menubar-container     { width: 65%; heihgt: 30%  ;}\n",
    "    div#maintoolbar-container { width: 99%; heihgt: 30%  ;}\n",
    "</style>\n",
    "\"\"\"))"
   ]
  },
  {
   "cell_type": "markdown",
   "metadata": {},
   "source": [
    "Open the CSVs"
   ]
  },
  {
   "cell_type": "code",
   "execution_count": 2,
   "metadata": {
    "scrolled": false
   },
   "outputs": [
    {
     "data": {
      "application/vnd.jupyter.widget-view+json": {
       "model_id": "69b9a3ac7db94d8d9a79d820da2f35d0",
       "version_major": 2,
       "version_minor": 0
      },
      "text/plain": [
       "GridBox(children=(Button(button_style='success', description='Sample a test', icon='refresh', layout=Layout(gr…"
      ]
     },
     "metadata": {},
     "output_type": "display_data"
    }
   ],
   "source": [
    "projects =  open('allProjects.csv', newline='\\r')\n",
    "#numProjects = sum(1 for line in projects)\n",
    "classes =  open('allclasses.csv', newline='\\r')\n",
    "#numClasses = sum(1 for line in classes)\n",
    "methods =  open('allmethods.csv', newline='\\r')\n",
    "#numMethods = sum(1 for line in methods)\n",
    "#print(numProjects)\n",
    "#print(numClasses)\n",
    "#print(numMethods)\n",
    "\n",
    "#chosen_row = random.choice(list(methods))\n",
    "#print(chosen_row)\n",
    "\n",
    "button = widgets.Button(\n",
    "    description='Sample a test',\n",
    "    disabled=False,\n",
    "    button_style='success', # 'success', 'info', 'warning', 'danger' or ''\n",
    "    tooltip='Click me',\n",
    "    icon='refresh',\n",
    "    layout= widgets.Layout(width='auto', grid_area='a')\n",
    "    #layout = widgets.Layout(width='auto', height='auto')\n",
    ")\n",
    "\n",
    "projectLabel = widgets.Label(value=\"Sampled from project:\",\n",
    "                            layout= widgets.Layout(width='auto', grid_area='b'))\n",
    "testClassLabel = widgets.Label(value=\"Sampled from class:\",\n",
    "                              layout= widgets.Layout(width='auto', grid_area='c'))\n",
    "\n",
    "\n",
    "\n",
    "\n",
    "textMethod = widgets.Textarea(\n",
    "    disabled=True,\n",
    "    layout= widgets.Layout(width='auto', grid_area='d', height = '1000px')\n",
    "    #layout = widgets.Layout(width='auto', height='auto')\n",
    ")\n",
    "\n",
    "textClass = widgets.Textarea(\n",
    "    disabled=True,\n",
    "    layout= widgets.Layout(width='auto', grid_area='e', height = '1000px')\n",
    "    #layout = widgets.Layout(width='auto', height='auto')\n",
    ")\n",
    "\n",
    "g = widgets.GridBox(children=[button, projectLabel, testClassLabel, textMethod, textClass],\n",
    "        layout= widgets.Layout(\n",
    "            width='100%',\n",
    "            grid_template_rows='auto auto auto auto',\n",
    "            grid_template_columns='25% 25% 25% 25%',\n",
    "            grid_template_areas='''\n",
    "            \". a a .\"\n",
    "            \". b . .\"\n",
    "            \". c . .\"\n",
    "            \"d d e e\"\n",
    "            ''')\n",
    "       )\n",
    "\n",
    "display(g)\n",
    "\n",
    "#display(button,projectLabel,testClassLabel,textMethod,textClass)\n",
    "\n",
    "def on_button_clicked(b):\n",
    "    project = random.choice(os.listdir(\"../DataBase/MethodsDataBase/\"))\n",
    "    testClass = random.choice(os.listdir(\"../DataBase/MethodsDataBase/\"+project+\"/\"))\n",
    "    test = random.choice(os.listdir(\"../DataBase/MethodsDataBase/\"+project+\"/\" + testClass + \"/\"))\n",
    "    testFile = testClassFile = open(\"../DataBase/MethodsDataBase/\" + project + \"/\" + testClass + \"/\" + test, \"r\")\n",
    "    testClassFile = open(\"../DataBase/TestClassesDataBase/\" + project + \"/\" + testClass +\".txt\", \"r\")\n",
    "    projectLabel.value = \"Sampled from project: \" + project\n",
    "    testClassLabel.value = \"Sampled from class: \" +  testClass\n",
    "    textMethod.value = str(testFile.read())\n",
    "    textClass.value = str(testClassFile.read())\n",
    "    \n",
    "button.on_click(on_button_clicked)\n",
    "\n"
   ]
  }
 ],
 "metadata": {
  "kernelspec": {
   "display_name": "Python 3",
   "language": "python",
   "name": "python3"
  },
  "language_info": {
   "codemirror_mode": {
    "name": "ipython",
    "version": 3
   },
   "file_extension": ".py",
   "mimetype": "text/x-python",
   "name": "python",
   "nbconvert_exporter": "python",
   "pygments_lexer": "ipython3",
   "version": "3.7.0"
  }
 },
 "nbformat": 4,
 "nbformat_minor": 2
}
